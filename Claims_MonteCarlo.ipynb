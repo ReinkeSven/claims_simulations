{
  "nbformat": 4,
  "nbformat_minor": 0,
  "metadata": {
    "colab": {
      "name": "Claims_MonteCarlo.ipynb",
      "provenance": [],
      "authorship_tag": "ABX9TyObcDP3zIS9BIitE21s32HQ",
      "include_colab_link": true
    },
    "kernelspec": {
      "name": "python3",
      "display_name": "Python 3"
    }
  },
  "cells": [
    {
      "cell_type": "markdown",
      "metadata": {
        "id": "view-in-github",
        "colab_type": "text"
      },
      "source": [
        "<a href=\"https://colab.research.google.com/github/ReinkeSven/claims_simulations/blob/master/Claims_MonteCarlo.ipynb\" target=\"_parent\"><img src=\"https://colab.research.google.com/assets/colab-badge.svg\" alt=\"Open In Colab\"/></a>"
      ]
    },
    {
      "cell_type": "markdown",
      "metadata": {
        "id": "bQXNK5TnOLJg",
        "colab_type": "text"
      },
      "source": [
        "# Monte Carlo Simulation\n",
        "\n",
        "In the following I create a small class that creates a Monte Carlo based claims\n",
        "simulation for claims.\n",
        "\n",
        "\n"
      ]
    },
    {
      "cell_type": "code",
      "metadata": {
        "id": "Y4tzQbi0NnPl",
        "colab_type": "code",
        "colab": {}
      },
      "source": [
        "import numpy as np\n",
        "import math\n",
        "import matplotlib.pyplot as plt\n",
        "#np.set_printoptions(precision=15)\n",
        "\n",
        "class MonteCarloClaims():\n",
        "  \"\"\"\n",
        "  This class generates a claims distribution based on a frequency and severity distribution.\n",
        "  The methodolody follows the theory of Parodi, P - Pricing in General Insurance, Chapter 17.4 \n",
        "  \"Monte Carlo Simulation.\"\n",
        "  \"\"\"\n",
        "\n",
        "  def __init__(self, num_sims, seed):\n",
        "    self._seed = seed\n",
        "    if num_sims <=0:\n",
        "      raise ValueError(\"Number of simulations must be bigger 0.\")\n",
        "    elif not isinstance(num_sims, int):\n",
        "      raise TypeError(\"Number of simulations must be integer.\")\n",
        "    else:\n",
        "      self.num_sims = num_sims\n",
        "\n",
        "  @property\n",
        "  def seed(self):\n",
        "    return self._seed\n",
        "  \n",
        "  @property\n",
        "  def poi_param(self):\n",
        "    return self._poi_param\n",
        "  \n",
        "  def poison_claim_count(self, poi_param):\n",
        "    \"\"\"\n",
        "    Generate a poisson-distributed claims count\n",
        "    \"\"\"\n",
        "    np.random.seed(self._seed)\n",
        "    self._poi_param = poi_param\n",
        "    self.poi_dist = np.random.poisson(poi_param, self.num_sims)\n",
        "\n",
        "  @property\n",
        "  def gamma_shape(self):\n",
        "    return self._gamma_shape\n",
        "\n",
        "  @property\n",
        "  def gamma_scale(self):\n",
        "    return self._gamma_scale\n",
        "  \n",
        "  @property\n",
        "  def gamma_clms(self):\n",
        "    return self._gamma_clms\n",
        "\n",
        "  @property\n",
        "  def agg_loss_mean(self):\n",
        "    return self._agg_loss_mean\n",
        "\n",
        "  def gamma_severity(self, shape, scale):\n",
        "    np.random.seed(self._seed)\n",
        "    self._gamma_shape = shape\n",
        "    self._gamma_scale = scale\n",
        "    \n",
        "    gamma_pdf = lambda x : np.random.gamma(self._gamma_shape, self._gamma_scale, x)\n",
        "    try:\n",
        "      self._gamma_clms = np.hstack(np.array([gamma_pdf(x) if x != 0 else np.array([0]) for x in self.poi_dist]))\n",
        "      #self._gamma_clms = np.hstack(np.array([gamma_pdf(x) for x in self.poi_dist]))\n",
        "      self._agg_loss_mean = self._gamma_clms.sum()/self.num_sims\n",
        "    except AttributeError:\n",
        "      print(\"Error - Need to initialize claims count first.\")\n",
        "  \n",
        "  def gamma_value_at_risk(self, percentile):\n",
        "    srtd_claims = np.sort(self._gamma_clms)\n",
        "    num_thres = math.floor((1-percentile/100)*self.num_sims)\n",
        "    return srtd_claims[-num_thres]\n",
        "\n",
        "  def gamma_cond_value_at_risk(self, percentile):\n",
        "    srtd_claims = np.sort(self._gamma_clms)\n",
        "    num_thres = math.floor((1-percentile/100)*self.num_sims)\n",
        "    return srtd_claims[-num_thres:].mean()\n",
        "  \n",
        "  def apply_deductible_limit(self, ded=0, limit=np.Inf):\n",
        "    if (ded>=0) & (limit>=0):\n",
        "      clms = np.copy(self._gamma_clms)\n",
        "      clms_sum = clms.sum()\n",
        "      clms_lim_ded = np.maximum(np.minimum(clms, limit)-ded,0)\n",
        "      clms_lim_ded_sum = clms_lim_ded.sum()\n",
        "      print(f'The deductible/limit combination eliminates {(1-clms_lim_ded_sum/clms_sum)*100:.2f} percent of the loss.')\n",
        "      print(f\"Average aggregate loss before deductible/limit {clms.sum()/self.num_sims:.4f}.\")\n",
        "      print(f\"Average aggregate after deductible/limit {clms_lim_ded.sum()/self.num_sims:.4f}.\")\n",
        "      return clms_lim_ded\n",
        "    else:\n",
        "      raise ValueError('Ded/Limit must be greater of equal 0.')\n"
      ],
      "execution_count": 232,
      "outputs": []
    },
    {
      "cell_type": "code",
      "metadata": {
        "id": "4-g9TxKfJA-2",
        "colab_type": "code",
        "colab": {}
      },
      "source": [
        "#instantiate Claims distribution object with 10000 simulations and a seed of 42\n",
        "Claims = MonteCarloClaims(1000000, 42)"
      ],
      "execution_count": 241,
      "outputs": []
    },
    {
      "cell_type": "code",
      "metadata": {
        "id": "NAh7yoveRNeH",
        "colab_type": "code",
        "colab": {}
      },
      "source": [
        "# simulate number of claims\n",
        "Claims.poison_claim_count(1.2)"
      ],
      "execution_count": 243,
      "outputs": []
    },
    {
      "cell_type": "code",
      "metadata": {
        "id": "ir2xw4sdh3O3",
        "colab_type": "code",
        "colab": {
          "base_uri": "https://localhost:8080/",
          "height": 265
        },
        "outputId": "22bd7406-cc9b-48c0-9ad1-d3d42998289a"
      },
      "source": [
        "_ = plt.hist(Claims.poi_dist, bins='auto')  # arguments are passed to np.histogram\n",
        "plt.show()"
      ],
      "execution_count": 245,
      "outputs": [
        {
          "output_type": "display_data",
          "data": {
            "image/png": "[encoded data removed]",
            "text/plain": [
              "<Figure size 432x288 with 1 Axes>"
            ]
          },
          "metadata": {
            "tags": [],
            "needs_background": "light"
          }
        }
      ]
    },
    {
      "cell_type": "code",
      "metadata": {
        "id": "3uiqy-cJwjSe",
        "colab_type": "code",
        "colab": {
          "base_uri": "https://localhost:8080/",
          "height": 34
        },
        "outputId": "a4fe3952-7de7-4424-93e4-9675a66d225a"
      },
      "source": [
        "print(Claims.poi_dist.mean()) #gives back input value."
      ],
      "execution_count": 246,
      "outputs": [
        {
          "output_type": "stream",
          "text": [
            "1.199017\n"
          ],
          "name": "stdout"
        }
      ]
    },
    {
      "cell_type": "code",
      "metadata": {
        "id": "sghjOH-SwAnQ",
        "colab_type": "code",
        "colab": {}
      },
      "source": [
        "# for each claim simulate an amount taken from a gamma distribution.\n",
        "Claims.gamma_severity(7.5, 1)"
      ],
      "execution_count": 247,
      "outputs": []
    },
    {
      "cell_type": "code",
      "metadata": {
        "id": "73oxpjD40esl",
        "colab_type": "code",
        "colab": {
          "base_uri": "https://localhost:8080/",
          "height": 34
        },
        "outputId": "742fc616-1c8f-4491-b851-1dd9691605b5"
      },
      "source": [
        "Claims.agg_loss_mean #as expecpted 1.2 * 7.5 = 9"
      ],
      "execution_count": 248,
      "outputs": [
        {
          "output_type": "execute_result",
          "data": {
            "text/plain": [
              "8.99209589848453"
            ]
          },
          "metadata": {
            "tags": []
          },
          "execution_count": 248
        }
      ]
    },
    {
      "cell_type": "code",
      "metadata": {
        "id": "vTRoendKwxRD",
        "colab_type": "code",
        "colab": {
          "base_uri": "https://localhost:8080/",
          "height": 265
        },
        "outputId": "65a0e0b9-d104-4380-b25a-a65f8ff1a645"
      },
      "source": [
        "_ = plt.hist(Claims.gamma_clms, bins=\"auto\")"
      ],
      "execution_count": 249,
      "outputs": [
        {
          "output_type": "display_data",
          "data": {
            "image/png": "[encoded data removed]",
            "text/plain": [
              "<Figure size 432x288 with 1 Axes>"
            ]
          },
          "metadata": {
            "tags": [],
            "needs_background": "light"
          }
        }
      ]
    },
    {
      "cell_type": "code",
      "metadata": {
        "id": "D4w9RnPzEaco",
        "colab_type": "code",
        "colab": {
          "base_uri": "https://localhost:8080/",
          "height": 52
        },
        "outputId": "e59ed9f2-cdef-4377-f311-9eb79d7e040a"
      },
      "source": [
        "Claims.gamma_clms"
      ],
      "execution_count": 257,
      "outputs": [
        {
          "output_type": "execute_result",
          "data": {
            "text/plain": [
              "array([8.58033893, 6.80286018, 6.55792163, ..., 4.81988084, 5.3954652 ,\n",
              "       0.        ])"
            ]
          },
          "metadata": {
            "tags": []
          },
          "execution_count": 257
        }
      ]
    },
    {
      "cell_type": "code",
      "metadata": {
        "id": "hwxqW3ORn2A2",
        "colab_type": "code",
        "colab": {
          "base_uri": "https://localhost:8080/",
          "height": 69
        },
        "outputId": "bde00544-b87b-47ba-d03f-c2b3a8486e56"
      },
      "source": [
        "ded_lim_claims = Claims.apply_deductible_limit(5, 15)"
      ],
      "execution_count": 258,
      "outputs": [
        {
          "output_type": "stream",
          "text": [
            "The deductible/limit combination eliminates 64.53 percent of the loss.\n",
            "Average aggregate loss before deductible/limit 8.9921.\n",
            "Average aggregate after deductible/limit 3.1894.\n"
          ],
          "name": "stdout"
        }
      ]
    },
    {
      "cell_type": "code",
      "metadata": {
        "id": "oFoZUCuevoNC",
        "colab_type": "code",
        "colab": {
          "base_uri": "https://localhost:8080/",
          "height": 265
        },
        "outputId": "e001377c-0f17-46ec-9f44-3b587d5aeb62"
      },
      "source": [
        "_ = plt.hist(ded_lim_claims, bins='auto')  # arguments are passed to np.histogram"
      ],
      "execution_count": 259,
      "outputs": [
        {
          "output_type": "display_data",
          "data": {
            "image/png": "[encoded data removed]",
            "text/plain": [
              "<Figure size 432x288 with 1 Axes>"
            ]
          },
          "metadata": {
            "tags": [],
            "needs_background": "light"
          }
        }
      ]
    },
    {
      "cell_type": "code",
      "metadata": {
        "id": "LdbZgwBbwBEO",
        "colab_type": "code",
        "colab": {}
      },
      "source": [
        ""
      ],
      "execution_count": 256,
      "outputs": []
    }
  ]
}