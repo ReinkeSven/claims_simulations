{
  "nbformat": 4,
  "nbformat_minor": 0,
  "metadata": {
    "colab": {
      "name": "Claims_MonteCarlo.ipynb",
      "provenance": [],
      "authorship_tag": "ABX9TyMtGiodam5FvBLQKwhyJq4z",
      "include_colab_link": true
    },
    "kernelspec": {
      "name": "python3",
      "display_name": "Python 3"
    }
  },
  "cells": [
    {
      "cell_type": "markdown",
      "metadata": {
        "id": "view-in-github",
        "colab_type": "text"
      },
      "source": [
        "<a href=\"https://colab.research.google.com/github/ReinkeSven/claims_simulations/blob/master/Claims_MonteCarlo.ipynb\" target=\"_parent\"><img src=\"https://colab.research.google.com/assets/colab-badge.svg\" alt=\"Open In Colab\"/></a>"
      ]
    },
    {
      "cell_type": "markdown",
      "metadata": {
        "id": "bQXNK5TnOLJg",
        "colab_type": "text"
      },
      "source": [
        "# Monte Carlo Simulation\n",
        "\n",
        "In the following I create a small class that creates a Monte Carlo based claims\n",
        "simulation for claims.\n",
        "\n",
        "\n"
      ]
    },
    {
      "cell_type": "code",
      "metadata": {
        "id": "Y4tzQbi0NnPl",
        "colab_type": "code",
        "colab": {}
      },
      "source": [
        "import numpy as np\n",
        "import math\n",
        "import matplotlib.pyplot as plt\n",
        "#np.set_printoptions(precision=15)\n",
        "\n",
        "class MonteCarloClaims():\n",
        "  \"\"\"\n",
        "  This class generates a claims distribution based on a frequency and severity distribution.\n",
        "  The methodolody follows the theory of Parodi, P - Pricing in General Insurance, Chapter 17.4 \n",
        "  \"Monte Carlo Simulation.\"\n",
        "  \"\"\"\n",
        "\n",
        "  def __init__(self, num_sims, seed):\n",
        "    self._seed = seed\n",
        "    if num_sims <=0:\n",
        "      raise ValueError(\"Number of simulations must be bigger 0.\")\n",
        "    elif not isinstance(num_sims, int):\n",
        "      raise TypeError(\"Number of simulations must be integer.\")\n",
        "    else:\n",
        "      self.num_sims = num_sims\n",
        "\n",
        "  @property\n",
        "  def seed(self):\n",
        "    return self._seed\n",
        "  \n",
        "  @property\n",
        "  def poi_param(self):\n",
        "    return self._poi_param\n",
        "  \n",
        "  def poison_claim_count(self, poi_param):\n",
        "    \"\"\"\n",
        "    Generate a poisson-distributed claims count\n",
        "    \"\"\"\n",
        "    np.random.seed(self._seed)\n",
        "    self._poi_param = poi_param\n",
        "    self.poi_dist = np.random.poisson(poi_param, self.num_sims)\n",
        "\n",
        "  @property\n",
        "  def gamma_shape(self):\n",
        "    return self._gamma_shape\n",
        "\n",
        "  @property\n",
        "  def gamma_scale(self):\n",
        "    return self._gamma_scale\n",
        "  \n",
        "  @property\n",
        "  def gamma_clms(self):\n",
        "    return self._gamma_clms\n",
        "\n",
        "  def gamma_severity(self, shape, scale):\n",
        "    np.random.seed(self._seed)\n",
        "    self._gamma_shape = shape\n",
        "    self._gamma_scale = scale\n",
        "    \n",
        "    gamma_pdf = lambda x : np.random.gamma(self._gamma_shape, self._gamma_scale, x)\n",
        "    try:\n",
        "      self._gamma_clms = np.hstack(np.array([gamma_pdf(x) for x in self.poi_dist]))\n",
        "    except AttributeError:\n",
        "      print(\"Error - Need to initialize claims count first.\")\n",
        "  \n",
        "  def gamma_value_at_risk(self, percentile):\n",
        "    srtd_claims = np.sort(self._gamma_clms)\n",
        "    num_thres = math.floor((1-percentile/100)*self.num_sims)\n",
        "    return srtd_claims[-num_thres]\n",
        "\n",
        "  def gamma_cond_value_at_risk(self, percentile):\n",
        "    srtd_claims = np.sort(self._gamma_clms)\n",
        "    num_thres = math.floor((1-percentile/100)*self.num_sims)\n",
        "    return srtd_claims[-num_thres:].mean()\n",
        "\n",
        "  def apply_deductible(self, value):\n",
        "    if value>=0:\n",
        "      clms = np.copy(self._gamma_clms)\n",
        "      clms_sum = clms.sum()\n",
        "      clms_ded = clms - value # substract deductible from each claims.\n",
        "      clms_ded_sum = clms_ded[clms_ded>0].sum()\n",
        "      print(clms_ded)\n",
        "      print(f'The deductible eliminates {(1-clms_ded_sum/clms_sum)*100:.2f} percent of the loss amounts.')\n",
        "      print(f\"Average severity before deductible {clms.mean():.4f}.\")\n",
        "      print(f\"Average severity after deductible {clms_ded.mean():.4f}.\")\n",
        "      return clms_ded[clms_ded>0]\n",
        "    else:\n",
        "      raise ValueError('Deductible must be bigger 0.')\n",
        "\n",
        "  def apply_limit(self, value):\n",
        "    if value>0:\n",
        "      clms = np.copy(self._gamma_clms)\n",
        "      clms_sum = clms.sum()\n",
        "      clms_lim = np.minimum(clms, value) # Apply limit.\n",
        "      clms_lim_sum = clms_lim.sum()\n",
        "      print(clms_lim)\n",
        "      print(f'The limit eliminates {(1-clms_lim_sum/clms_sum)*100:.2f} percent of the loss amounts.')\n",
        "      print(f\"Average severity before deductible {clms.mean():.4f}.\")\n",
        "      print(f\"Average severity after deductible {clms_lim.mean():.4f}.\")\n",
        "      return clms_lim\n",
        "    else:\n",
        "      raise ValueError('Limit must be bigger 0.')\n",
        "  \n",
        "  def apply_deductible_limit(self, ded=0, limit=np.Inf):\n",
        "    if (ded>=0) & (limit>=0):\n",
        "      clms = np.copy(self._gamma_clms)\n",
        "      clms_sum = clms.sum()\n",
        "      clms_lim_ded = np.minimum(clms, limit)-ded\n",
        "      clms_lim_ded = clms_lim_ded[clms_lim_ded>0] # Apply limit.\n",
        "      clms_lim_ded_sum = clms_lim_ded.sum()\n",
        "      print(f'The deductible/limit combination eliminates {(1-clms_lim_ded_sum/clms_sum)*100:.2f} percent of the loss.')\n",
        "      print(f\"Average severity before deductible {clms.mean():.4f}.\")\n",
        "      print(f\"Average severity after deductible {clms_lim_ded.mean():.4f}.\")\n",
        "      return clms_lim_ded\n",
        "    else:\n",
        "      raise ValueError('Ded/Limit must be greater of equal 0.')\n"
      ],
      "execution_count": 370,
      "outputs": []
    },
    {
      "cell_type": "code",
      "metadata": {
        "id": "4-g9TxKfJA-2",
        "colab_type": "code",
        "colab": {}
      },
      "source": [
        "#instantiate Claims distribution object with 10000 simulations and a seed of 42\n",
        "Claims = MonteCarloClaims(10000, 42)"
      ],
      "execution_count": 371,
      "outputs": []
    },
    {
      "cell_type": "code",
      "metadata": {
        "id": "a3tFqW-rmVpy",
        "colab_type": "code",
        "colab": {
          "base_uri": "https://localhost:8080/",
          "height": 34
        },
        "outputId": "043dfb2b-8761-44b6-e46e-2215f423a7d4"
      },
      "source": [
        "Claims.seed"
      ],
      "execution_count": 372,
      "outputs": [
        {
          "output_type": "execute_result",
          "data": {
            "text/plain": [
              "42"
            ]
          },
          "metadata": {
            "tags": []
          },
          "execution_count": 372
        }
      ]
    },
    {
      "cell_type": "code",
      "metadata": {
        "id": "NAh7yoveRNeH",
        "colab_type": "code",
        "colab": {}
      },
      "source": [
        "# simulate number of claims\n",
        "Claims.poison_claim_count(1.2)"
      ],
      "execution_count": 373,
      "outputs": []
    },
    {
      "cell_type": "code",
      "metadata": {
        "id": "ir2xw4sdh3O3",
        "colab_type": "code",
        "colab": {
          "base_uri": "https://localhost:8080/",
          "height": 265
        },
        "outputId": "9fd6f662-2e05-4a7b-e5fd-dccae30118cf"
      },
      "source": [
        "_ = plt.hist(Claims.poi_dist, bins='auto')  # arguments are passed to np.histogram\n",
        "plt.show()"
      ],
      "execution_count": 374,
      "outputs": [
        {
          "output_type": "display_data",
          "data": {
            "image/png": "[encoded data removed]",
            "text/plain": [
              "<Figure size 432x288 with 1 Axes>"
            ]
          },
          "metadata": {
            "tags": [],
            "needs_background": "light"
          }
        }
      ]
    },
    {
      "cell_type": "code",
      "metadata": {
        "id": "3uiqy-cJwjSe",
        "colab_type": "code",
        "colab": {
          "base_uri": "https://localhost:8080/",
          "height": 34
        },
        "outputId": "45fad389-7bc2-409e-f35c-b31e8e0eb0c1"
      },
      "source": [
        "print(Claims.poi_dist.mean()) #gives back input value."
      ],
      "execution_count": 375,
      "outputs": [
        {
          "output_type": "stream",
          "text": [
            "1.2025\n"
          ],
          "name": "stdout"
        }
      ]
    },
    {
      "cell_type": "code",
      "metadata": {
        "id": "sghjOH-SwAnQ",
        "colab_type": "code",
        "colab": {}
      },
      "source": [
        "# for each claim simulate an amount taken from a gamma distribution.\n",
        "Claims.gamma_severity(7.5, 1)"
      ],
      "execution_count": 376,
      "outputs": []
    },
    {
      "cell_type": "code",
      "metadata": {
        "id": "73oxpjD40esl",
        "colab_type": "code",
        "colab": {
          "base_uri": "https://localhost:8080/",
          "height": 52
        },
        "outputId": "dcfa4919-57d8-4c76-a321-26c88fafe868"
      },
      "source": [
        "Claims.gamma_clms"
      ],
      "execution_count": 377,
      "outputs": [
        {
          "output_type": "execute_result",
          "data": {
            "text/plain": [
              "array([ 8.58033893,  6.80286018,  6.55792163, ...,  8.51571326,\n",
              "       10.21500101, 10.07860159])"
            ]
          },
          "metadata": {
            "tags": []
          },
          "execution_count": 377
        }
      ]
    },
    {
      "cell_type": "code",
      "metadata": {
        "id": "vTRoendKwxRD",
        "colab_type": "code",
        "colab": {
          "base_uri": "https://localhost:8080/",
          "height": 265
        },
        "outputId": "aece60b1-53ea-4e0c-b921-3bc12d4bbe99"
      },
      "source": [
        "_ = plt.hist(Claims.gamma_clms, bins=\"auto\")"
      ],
      "execution_count": 378,
      "outputs": [
        {
          "output_type": "display_data",
          "data": {
            "image/png": "[encoded data removed]",
            "text/plain": [
              "<Figure size 432x288 with 1 Axes>"
            ]
          },
          "metadata": {
            "tags": [],
            "needs_background": "light"
          }
        }
      ]
    },
    {
      "cell_type": "code",
      "metadata": {
        "id": "ld6FXJeXCdmJ",
        "colab_type": "code",
        "colab": {
          "base_uri": "https://localhost:8080/",
          "height": 121
        },
        "outputId": "6c456f30-fe42-46eb-8c66-e392e3234762"
      },
      "source": [
        "# apply a deductible of 5\n",
        "Claims.apply_deductible(5)"
      ],
      "execution_count": 379,
      "outputs": [
        {
          "output_type": "stream",
          "text": [
            "[3.58033893 1.80286018 1.55792163 ... 3.51571326 5.21500101 5.07860159]\n",
            "The deductible eliminates 64.07 percent of the loss amounts.\n",
            "Average severity before deductible 7.5481.\n",
            "Average severity after deductible 2.5481.\n"
          ],
          "name": "stdout"
        },
        {
          "output_type": "execute_result",
          "data": {
            "text/plain": [
              "array([3.58033893, 1.80286018, 1.55792163, ..., 3.51571326, 5.21500101,\n",
              "       5.07860159])"
            ]
          },
          "metadata": {
            "tags": []
          },
          "execution_count": 379
        }
      ]
    },
    {
      "cell_type": "code",
      "metadata": {
        "id": "ufExHm6sw4-7",
        "colab_type": "code",
        "colab": {
          "base_uri": "https://localhost:8080/",
          "height": 334
        },
        "outputId": "082c602f-4ff5-462f-aad6-768a16843b7c"
      },
      "source": [
        "_ = plt.hist(Claims.apply_deductible(5), bins=\"auto\")"
      ],
      "execution_count": 380,
      "outputs": [
        {
          "output_type": "stream",
          "text": [
            "[3.58033893 1.80286018 1.55792163 ... 3.51571326 5.21500101 5.07860159]\n",
            "The deductible eliminates 64.07 percent of the loss amounts.\n",
            "Average severity before deductible 7.5481.\n",
            "Average severity after deductible 2.5481.\n"
          ],
          "name": "stdout"
        },
        {
          "output_type": "display_data",
          "data": {
            "image/png": "[encoded data removed]",
            "text/plain": [
              "<Figure size 432x288 with 1 Axes>"
            ]
          },
          "metadata": {
            "tags": [],
            "needs_background": "light"
          }
        }
      ]
    },
    {
      "cell_type": "code",
      "metadata": {
        "id": "PDA2AksmNaNo",
        "colab_type": "code",
        "colab": {
          "base_uri": "https://localhost:8080/",
          "height": 121
        },
        "outputId": "e847d424-c9ab-4d41-9dc2-60b5287e7e34"
      },
      "source": [
        "Claims.apply_limit(8)"
      ],
      "execution_count": 381,
      "outputs": [
        {
          "output_type": "stream",
          "text": [
            "[8.         6.80286018 6.55792163 ... 8.         8.         8.        ]\n",
            "The limit eliminates 11.78 percent of the loss amounts.\n",
            "Average severity before deductible 7.5481.\n",
            "Average severity after deductible 6.6591.\n"
          ],
          "name": "stdout"
        },
        {
          "output_type": "execute_result",
          "data": {
            "text/plain": [
              "array([8.        , 6.80286018, 6.55792163, ..., 8.        , 8.        ,\n",
              "       8.        ])"
            ]
          },
          "metadata": {
            "tags": []
          },
          "execution_count": 381
        }
      ]
    },
    {
      "cell_type": "code",
      "metadata": {
        "id": "IH29YZbAxMce",
        "colab_type": "code",
        "colab": {
          "base_uri": "https://localhost:8080/",
          "height": 334
        },
        "outputId": "a890a79f-ae55-4bed-af09-e9456fe23202"
      },
      "source": [
        "_ = plt.hist(Claims.apply_limit(8), bins=\"auto\")"
      ],
      "execution_count": 382,
      "outputs": [
        {
          "output_type": "stream",
          "text": [
            "[8.         6.80286018 6.55792163 ... 8.         8.         8.        ]\n",
            "The limit eliminates 11.78 percent of the loss amounts.\n",
            "Average severity before deductible 7.5481.\n",
            "Average severity after deductible 6.6591.\n"
          ],
          "name": "stdout"
        },
        {
          "output_type": "display_data",
          "data": {
            "image/png": "[encoded data removed]",
            "text/plain": [
              "<Figure size 432x288 with 1 Axes>"
            ]
          },
          "metadata": {
            "tags": [],
            "needs_background": "light"
          }
        }
      ]
    },
    {
      "cell_type": "code",
      "metadata": {
        "id": "hwxqW3ORn2A2",
        "colab_type": "code",
        "colab": {
          "base_uri": "https://localhost:8080/",
          "height": 69
        },
        "outputId": "3dbdd6a3-fd50-457f-b9d7-b588b92f5090"
      },
      "source": [
        "ded_lim_claims = Claims.apply_deductible_limit(5, 8)"
      ],
      "execution_count": 383,
      "outputs": [
        {
          "output_type": "stream",
          "text": [
            "The deductible/limit combination eliminates 75.84 percent of the loss.\n",
            "Average severity before deductible 7.5481.\n",
            "Average severity after deductible 2.1925.\n"
          ],
          "name": "stdout"
        }
      ]
    },
    {
      "cell_type": "code",
      "metadata": {
        "id": "oFoZUCuevoNC",
        "colab_type": "code",
        "colab": {
          "base_uri": "https://localhost:8080/",
          "height": 265
        },
        "outputId": "53f57c20-9c05-472a-ad57-a9a4e1cd6b27"
      },
      "source": [
        "_ = plt.hist(ded_lim_claims, bins='auto')  # arguments are passed to np.histogram"
      ],
      "execution_count": 385,
      "outputs": [
        {
          "output_type": "display_data",
          "data": {
            "image/png": "[encoded data removed]",
            "text/plain": [
              "<Figure size 432x288 with 1 Axes>"
            ]
          },
          "metadata": {
            "tags": [],
            "needs_background": "light"
          }
        }
      ]
    },
    {
      "cell_type": "code",
      "metadata": {
        "id": "LdbZgwBbwBEO",
        "colab_type": "code",
        "colab": {}
      },
      "source": [
        ""
      ],
      "execution_count": null,
      "outputs": []
    }
  ]
}